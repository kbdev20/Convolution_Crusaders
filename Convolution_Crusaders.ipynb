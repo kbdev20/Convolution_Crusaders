{
  "nbformat": 4,
  "nbformat_minor": 0,
  "metadata": {
    "colab": {
      "provenance": [],
      "include_colab_link": true
    },
    "kernelspec": {
      "name": "python3",
      "display_name": "Python 3"
    },
    "language_info": {
      "name": "python"
    }
  },
  "cells": [
    {
      "cell_type": "markdown",
      "metadata": {
        "id": "view-in-github",
        "colab_type": "text"
      },
      "source": [
        "<a href=\"https://colab.research.google.com/github/kbdev20/Convolution_Crusaders/blob/main/Convolution_Crusaders.ipynb\" target=\"_parent\"><img src=\"https://colab.research.google.com/assets/colab-badge.svg\" alt=\"Open In Colab\"/></a>"
      ]
    },
    {
      "cell_type": "markdown",
      "source": [],
      "metadata": {
        "id": "cvQK4w0EZo7l"
      }
    },
    {
      "cell_type": "code",
      "execution_count": null,
      "metadata": {
        "id": "eS88xX-IXa4x"
      },
      "outputs": [],
      "source": [
        "from google.colab import drive\n",
        "import zipfile\n",
        "import os\n",
        "\n",
        "\n",
        "# Step 2: Specify the zip file name and extraction directory\n",
        "zip_file_path = '/content/drive/MyDrive/dataa/airbus-ship-detection.zip'\n",
        "extraction_directory = '/content/drive/MyDrive/dataa/'\n",
        "\n",
        "# Ensure the extraction directory exists\n",
        "if not os.path.exists(extraction_directory):\n",
        "    os.makedirs(extraction_directory)\n",
        "\n",
        "# Step 3: Unzip the file\n",
        "with zipfile.ZipFile(zip_file_path, 'r') as zip_ref:\n",
        "    zip_ref.extractall(extraction_directory)\n",
        "\n",
        "print(f\"Files extracted to {extraction_directory}\")\n"
      ]
    },
    {
      "cell_type": "code",
      "source": [
        "import pandas as pd\n",
        "import numpy as np\n",
        "from skimage.measure import label, regionprops\n",
        "\n",
        "# Load the RLE-encoded CSV\n",
        "file_path = '/content/drive/MyDrive/dataa/train_ship_segmentations_v2.csv'\n",
        "df = pd.read_csv(file_path).dropna()  # dropna() to remove rows with NaN values\n",
        "\n",
        "# Function to decode RLE\n",
        "def rle_decode(mask_rle, shape=(768, 768)):\n",
        "    s = mask_rle.split()\n",
        "    starts, lengths = [np.asarray(x, dtype=int) for x in (s[0:][::2], s[1:][::2])]\n",
        "    starts -= 1\n",
        "    ends = starts + lengths\n",
        "    img = np.zeros(shape[0]*shape[1], dtype=np.uint8)\n",
        "    for lo, hi in zip(starts, ends):\n",
        "        img[lo:hi] = 1\n",
        "    return img.reshape(shape).T\n",
        "\n",
        "# Function to convert binary mask to YOLO format bounding box\n",
        "def mask_to_yolo_bbox(mask):\n",
        "    labeled = label(mask)\n",
        "    props = regionprops(labeled)\n",
        "    if not props:\n",
        "        return None\n",
        "    y1, x1, y2, x2 = props[0].bbox\n",
        "    height, width = mask.shape\n",
        "    x_center = (x1 + x2) / 2 / width\n",
        "    y_center = (y1 + y2) / 2 / height\n",
        "    bbox_width = (x2 - x1) / width\n",
        "    bbox_height = (y2 - y1) / height\n",
        "    return [x_center, y_center, bbox_width, bbox_height]\n",
        "\n",
        "# Apply the conversions\n",
        "df['bbox'] = df['EncodedPixels'].apply(lambda x: mask_to_yolo_bbox(rle_decode(x)))\n",
        "\n",
        "# Remove rows with None values (if any)\n",
        "df = df.dropna()\n",
        "\n",
        "# Create a new DataFrame with YOLO format annotations\n",
        "yolo_df = pd.DataFrame()\n",
        "yolo_df['ImageId'] = df['ImageId']\n",
        "yolo_df[['x_center', 'y_center', 'width', 'height']] = pd.DataFrame(df['bbox'].tolist(), index=df.index)\n",
        "\n",
        "# Print the new DataFrame\n",
        "print(yolo_df.head())\n"
      ],
      "metadata": {
        "id": "UIyOb2GhZn03"
      },
      "execution_count": null,
      "outputs": []
    },
    {
      "cell_type": "code",
      "source": [
        "!pip install scikit-learn\n"
      ],
      "metadata": {
        "id": "0LXnLRFod_bm"
      },
      "execution_count": null,
      "outputs": []
    },
    {
      "cell_type": "code",
      "source": [
        "from sklearn.model_selection import train_test_split\n",
        "\n",
        "# Assuming yolo_df is your DataFrame and it's already defined and filled with your data\n",
        "# We'll split it into training, validation, and test sets\n",
        "\n",
        "# First, let's split the data into training (70%) and temp (30%)\n",
        "train_df, temp_df = train_test_split(yolo_df, test_size=0.3, random_state=42)\n",
        "\n",
        "# Then, let's split the temp data into validation (50%) and test (50%)\n",
        "# So, validation and test sets will each be 15% of the original data\n",
        "val_df, test_df = train_test_split(temp_df, test_size=0.5, random_state=42)\n",
        "\n",
        "# Print the shapes of the datasets\n",
        "print(f\"Train: {train_df.shape}, Validation: {val_df.shape}, Test: {test_df.shape}\")\n"
      ],
      "metadata": {
        "id": "rO_3qu5fd3sY"
      },
      "execution_count": null,
      "outputs": []
    },
    {
      "cell_type": "code",
      "source": [
        "import matplotlib.pyplot as plt\n",
        "import matplotlib.patches as patches\n",
        "from PIL import Image\n",
        "import numpy as np\n",
        "\n",
        "# Assuming yolo_df is your DataFrame with ['ImageId', 'x_center', 'y_center', 'width', 'height'] columns\n",
        "# and it's already defined and filled with your data\n",
        "\n",
        "# Directory containing the images\n",
        "image_dir = '/content/drive/MyDrive/dataa/train_v2/'\n",
        "\n",
        "# Function to convert YOLO format bounding box to matplotlib format [x, y, width, height]\n",
        "def yolo_to_matplotlib_bbox(yolo_bbox, image_shape):\n",
        "    x_center, y_center, width, height = yolo_bbox\n",
        "    x_center *= image_shape[1]\n",
        "    y_center *= image_shape[0]\n",
        "    width *= image_shape[1]\n",
        "    height *= image_shape[0]\n",
        "    x = x_center - width / 2\n",
        "    y = y_center - height / 2\n",
        "    return [x, y, width, height]\n",
        "\n",
        "# Plot the first few images with bounding boxes\n",
        "num_images_to_plot = 5\n",
        "for i, row in yolo_df.head(num_images_to_plot).iterrows():\n",
        "    image_path = image_dir + row['ImageId']\n",
        "    image = Image.open(image_path)\n",
        "    image_shape = image.size\n",
        "\n",
        "    # Create a matplotlib figure and axes\n",
        "    fig, ax = plt.subplots(1)\n",
        "\n",
        "    # Display the image\n",
        "    ax.imshow(image)\n",
        "\n",
        "    # Convert YOLO bounding box to matplotlib format and draw it\n",
        "    yolo_bbox = [row['x_center'], row['y_center'], row['width'], row['height']]\n",
        "    x, y, width, height = yolo_to_matplotlib_bbox(yolo_bbox, image_shape)\n",
        "    rect = patches.Rectangle((x, y), width, height, linewidth=1, edgecolor='r', facecolor='none')\n",
        "    ax.add_patch(rect)\n",
        "\n",
        "    # Show the plot\n",
        "    plt.show()\n"
      ],
      "metadata": {
        "id": "YxLBTswleLEp"
      },
      "execution_count": null,
      "outputs": []
    }
  ]
}